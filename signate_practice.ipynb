{
 "cells": [
  {
   "cell_type": "code",
   "execution_count": 1,
   "metadata": {},
   "outputs": [],
   "source": [
    "import pandas as pd\n",
    "import numpy as np\n",
    "from sklearn.model_selection import train_test_split\n",
    "from sklearn.metrics import auc, roc_auc_score, roc_curve\n",
    "from sklearn.tree import DecisionTreeClassifier\n",
    "from sklearn.ensemble import RandomForestClassifier\n",
    "from sklearn.ensemble import GradientBoostingClassifier\n",
    "from sklearn.svm import SVC"
   ]
  },
  {
   "cell_type": "markdown",
   "metadata": {},
   "source": [
    "# Preprocessing "
   ]
  },
  {
   "cell_type": "code",
   "execution_count": 2,
   "metadata": {},
   "outputs": [],
   "source": [
    "# One hot encoding column\n",
    "names = [\"job\", \"marital\", \"education\", \"default\", \"housing\", \"loan\", \"contact\", \"month\", \"poutcome\"]\n",
    "\n",
    "# One hot encorde the training\n",
    "df = pd.read_csv(\"train.csv\")\n",
    "x_df = df.iloc[:, :-1]\n",
    "y_df = df.iloc[:, -1]\n",
    "\n",
    "onehot_df = pd.get_dummies(x_df, columns=names, drop_first=True)\n",
    "onehot_df = pd.concat([onehot_df, y_df], axis=1)\n",
    "\n",
    "onehot_df.to_csv(\"onehot_train.csv\")\n",
    "\n",
    "# One hot encorde the test\n",
    "df = pd.read_csv(\"test.csv\")\n",
    "\n",
    "onehot_df = pd.get_dummies(df, columns=names, drop_first=True)\n",
    "\n",
    "onehot_df.to_csv(\"onehot_test.csv\")"
   ]
  },
  {
   "cell_type": "markdown",
   "metadata": {},
   "source": [
    "# Train"
   ]
  },
  {
   "cell_type": "code",
   "execution_count": 5,
   "metadata": {},
   "outputs": [
    {
     "name": "stdout",
     "output_type": "stream",
     "text": [
      "train score: 0.9997644254795901\n",
      "test score: 0.8736002541401003\n"
     ]
    }
   ],
   "source": [
    "df = pd.read_csv(\"onehot_train.csv\")\n",
    "x_array = np.array(df.iloc[:, :-1])\n",
    "y_array = np.array(df.iloc[:, -1])\n",
    "\n",
    "x_train, x_val, y_train, y_val = train_test_split(x_array, y_array, test_size=0.2)\n",
    "\n",
    "model = RandomForestClassifier()\n",
    "model.fit(x_train, y_train)\n",
    "\n",
    "def auc_score(x, y, m):\n",
    "    return roc_auc_score(y, m.predict_proba(x)[:, 1])\n",
    "    \n",
    "print(\"train score:\", auc_score(x_train, y_train, model))\n",
    "print(\"test score:\", auc_score(x_val, y_val, model))"
   ]
  },
  {
   "cell_type": "markdown",
   "metadata": {},
   "source": [
    "# Predict"
   ]
  },
  {
   "cell_type": "code",
   "execution_count": 8,
   "metadata": {},
   "outputs": [],
   "source": [
    "df = pd.read_csv(\"onehot_test.csv\")\n",
    "x = np.array(df)\n",
    "df = pd.read_csv(\"onehot_test.csv\")\n",
    "x = np.array(df)\n",
    "\n",
    "pred = model.predict_proba(x)\n",
    "pred_df = pd.DataFrame({\"pred\": pred[:, 1]})\n",
    "pred_df.index += 1\n",
    "pred_df.to_csv(\"submit.csv\", header=False)\n",
    "pred = model.predict_proba(x)\n",
    "pred_df = pd.DataFrame({\"pred\": pred[:, 1]})\n",
    "pred_df.index += 1\n",
    "pred_df.to_csv(\"submit.csv\", header=False)\n"
   ]
  },
  {
   "cell_type": "code",
   "execution_count": null,
   "metadata": {},
   "outputs": [],
   "source": []
  }
 ],
 "metadata": {
  "kernelspec": {
   "display_name": "Python 3",
   "language": "python",
   "name": "python3"
  },
  "language_info": {
   "codemirror_mode": {
    "name": "ipython",
    "version": 3
   },
   "file_extension": ".py",
   "mimetype": "text/x-python",
   "name": "python",
   "nbconvert_exporter": "python",
   "pygments_lexer": "ipython3",
   "version": "3.6.4"
  }
 },
 "nbformat": 4,
 "nbformat_minor": 2
}
