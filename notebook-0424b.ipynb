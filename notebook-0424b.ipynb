{
 "cells": [
  {
   "cell_type": "markdown",
   "metadata": {},
   "source": [
    "## 四則演算\n"
   ]
  },
  {
   "cell_type": "code",
   "execution_count": 2,
   "metadata": {},
   "outputs": [
    {
     "name": "stdout",
     "output_type": "stream",
     "text": [
      "1 + 1 = 2\n",
      "1 - 1 = 0\n",
      "10 / 2 = 5.0\n",
      "10 % 3= 1\n",
      "1234 * 5678 = 7006652\n",
      "10 ** 4 = 10000\n",
      "18782 + 18782 = 37564\n",
      "12345679 * 9 * 3 = 333333333\n",
      "1 / 9801 = 0.00010203040506070809\n"
     ]
    }
   ],
   "source": [
    "print(\"1 + 1 =\", 1 + 1)\n",
    "print(\"1 - 1 =\", 1 - 1)\n",
    "print(\"10 / 2 =\", 10 / 2)\n",
    "print(\"10 % 3=\", 10 % 3)\n",
    "print(\"1234 * 5678 =\", 1234 * 5678)\n",
    "print(\"10 ** 4 =\", 10 ** 4)\n",
    "\n",
    "print(\"18782 + 18782 =\", 18782 + 18782)\n",
    "print(\"12345679 * 9 * 3 =\", 12345679 * 9 * 3)\n",
    "print(\"1 / 9801 =\", 1 / 9801)"
   ]
  },
  {
   "cell_type": "markdown",
   "metadata": {},
   "source": [
    "## リスト、タプル、辞書"
   ]
  },
  {
   "cell_type": "code",
   "execution_count": 28,
   "metadata": {},
   "outputs": [
    {
     "name": "stdout",
     "output_type": "stream",
     "text": [
      "a[0]: 1\n",
      "b[2]: 3\n",
      "c[\"two\"]: 2\n"
     ]
    }
   ],
   "source": [
    "# リスト\n",
    "a = [1, 2, 3, 5, 6, 9]\n",
    "print(\"a[0]:\", a[0])\n",
    "\n",
    "# タプル\n",
    "b = (1, 2, 3, 5, 6, 9)\n",
    "print(\"b[2]:\", b[2])\n",
    "\n",
    "# 辞書\n",
    "c = {\"one\": 1, \"two\": 2, \"three\": 3}\n",
    "print('c[\"two\"]:', c[\"two\"])"
   ]
  },
  {
   "cell_type": "code",
   "execution_count": 26,
   "metadata": {},
   "outputs": [
    {
     "name": "stdout",
     "output_type": "stream",
     "text": [
      "a[0]: [1, 10]\n",
      "a[0][1]: 10\n"
     ]
    }
   ],
   "source": [
    "# 2次元リスト\n",
    "\n",
    "a = [[1, 10], [3, 30], [6, 60]]\n",
    "print(\"a[0]:\", a[0])\n",
    "print(\"a[0][1]:\", a[0][1])"
   ]
  },
  {
   "cell_type": "markdown",
   "metadata": {},
   "source": [
    "## リスト要素追加、リスト結合"
   ]
  },
  {
   "cell_type": "code",
   "execution_count": 6,
   "metadata": {},
   "outputs": [
    {
     "name": "stdout",
     "output_type": "stream",
     "text": [
      "[1, 2, 3, 4, 100]\n",
      "[1, 2, 10, 3, 4]\n"
     ]
    }
   ],
   "source": [
    "# 要素の追加\n",
    "a_list = [1, 2, 3, 4]\n",
    "a_list.append(100)\n",
    "print(a_list)\n",
    "\n",
    "a_list = [1, 2, 3, 4]\n",
    "a_list.insert(2, 10)\n",
    "print(a_list)\n"
   ]
  },
  {
   "cell_type": "code",
   "execution_count": 9,
   "metadata": {},
   "outputs": [
    {
     "name": "stdout",
     "output_type": "stream",
     "text": [
      "[1, 2, 3, 4, 7, 8, 9]\n",
      "[1, 2, 3, 4, 7, 8, 9, 1, 2, 3]\n"
     ]
    }
   ],
   "source": [
    "# リストの結合\n",
    "a_list = [1, 2, 3, 4]\n",
    "a_list.extend([7, 8, 9])\n",
    "print(a_list)\n",
    "\n",
    "a_list = [1, 2, 3, 4]\n",
    "a_list = a_list + [7, 8, 9] + [1, 2, 3]\n",
    "print(a_list)\n"
   ]
  },
  {
   "cell_type": "markdown",
   "metadata": {},
   "source": [
    "## スライス"
   ]
  },
  {
   "cell_type": "code",
   "execution_count": 9,
   "metadata": {},
   "outputs": [
    {
     "name": "stdout",
     "output_type": "stream",
     "text": [
      "a[1:4] : [4, 6, 8]\n",
      "a[4:]  : [10, 12, 14]\n",
      "a[:3]  : [2, 4, 6]\n",
      "a[::2] : [2, 6, 10, 14]\n",
      "a[::-1]: [14, 12, 10, 8, 6, 4, 2]\n"
     ]
    }
   ],
   "source": [
    "# a[start:end:step]\n",
    "a = [2, 4, 6, 8, 10, 12, 14]\n",
    "print(\"a[1:4] :\", a[1:4])\n",
    "print(\"a[4:]  :\", a[4:])\n",
    "print(\"a[:3]  :\", a[:3])\n",
    "print(\"a[::2] :\", a[::2])\n",
    "print(\"a[::-1]:\", a[::-1])\n",
    "\n"
   ]
  },
  {
   "cell_type": "markdown",
   "metadata": {},
   "source": [
    "## if文"
   ]
  },
  {
   "cell_type": "code",
   "execution_count": 20,
   "metadata": {},
   "outputs": [
    {
     "name": "stdout",
     "output_type": "stream",
     "text": [
      "10以上20未満です\n"
     ]
    }
   ],
   "source": [
    "a = 10\n",
    "if a < 10:\n",
    "    print(\"10未満です\")\n",
    "elif a < 20:\n",
    "    print(\"10以上20未満です\")\n",
    "else:\n",
    "    print(\"20以上です\")"
   ]
  },
  {
   "cell_type": "markdown",
   "metadata": {},
   "source": [
    "## while文"
   ]
  },
  {
   "cell_type": "code",
   "execution_count": 54,
   "metadata": {},
   "outputs": [
    {
     "name": "stdout",
     "output_type": "stream",
     "text": [
      "0\n",
      "1\n",
      "2\n",
      "3\n",
      "4\n"
     ]
    }
   ],
   "source": [
    "a = 0\n",
    "while a < 5:\n",
    "    print(a)\n",
    "    a += 1"
   ]
  },
  {
   "cell_type": "markdown",
   "metadata": {},
   "source": [
    "## for文"
   ]
  },
  {
   "cell_type": "code",
   "execution_count": 22,
   "metadata": {},
   "outputs": [
    {
     "name": "stdout",
     "output_type": "stream",
     "text": [
      "0\n",
      "1\n",
      "2\n",
      "3\n",
      "4\n"
     ]
    }
   ],
   "source": [
    "#1\n",
    "\n",
    "for i in range(5):\n",
    "    print(i)"
   ]
  },
  {
   "cell_type": "code",
   "execution_count": 23,
   "metadata": {},
   "outputs": [
    {
     "name": "stdout",
     "output_type": "stream",
     "text": [
      "100\n",
      "256\n",
      "1024\n",
      "3\n"
     ]
    }
   ],
   "source": [
    "#2-1 リスト\n",
    "\n",
    "for i in [100, 256, 1024, 3]:\n",
    "    print(i)"
   ]
  },
  {
   "cell_type": "code",
   "execution_count": 30,
   "metadata": {},
   "outputs": [
    {
     "name": "stdout",
     "output_type": "stream",
     "text": [
      "73\n",
      "19\n",
      "41\n"
     ]
    }
   ],
   "source": [
    "#2-2 タプル\n",
    "\n",
    "for i in (73, 19, 41):\n",
    "    print(i)"
   ]
  },
  {
   "cell_type": "code",
   "execution_count": 36,
   "metadata": {},
   "outputs": [
    {
     "name": "stdout",
     "output_type": "stream",
     "text": [
      "-----key-----\n",
      "one\n",
      "two\n",
      "three\n",
      "-----value-----\n",
      "1\n",
      "2\n",
      "3\n",
      "-----item-----\n",
      "key: one value: 1\n",
      "key: two value: 2\n",
      "key: three value: 3\n"
     ]
    }
   ],
   "source": [
    "#2-3 辞書\n",
    "\n",
    "a = {\"one\": 1, \"two\": 2, \"three\": 3}\n",
    "\n",
    "print(\"-----key-----\")\n",
    "for i in a.keys():\n",
    "    print(i)\n",
    "    \n",
    "print(\"-----value-----\")\n",
    "for i in a.values():\n",
    "    print(i)\n",
    "\n",
    "print(\"-----item-----\")\n",
    "for i, j in a.items():\n",
    "    print(\"key:\", i, \"value:\", j)"
   ]
  },
  {
   "cell_type": "code",
   "execution_count": 29,
   "metadata": {},
   "outputs": [
    {
     "name": "stdout",
     "output_type": "stream",
     "text": [
      "i: 1 j: 10\n",
      "i: 3 j: 30\n",
      "i: 6 j: 60\n"
     ]
    }
   ],
   "source": [
    "#3 2次元リスト\n",
    "\n",
    "for i, j in [[1, 10], [3, 30], [6, 60]]:\n",
    "    print(\"i:\", i, \"j:\", j)"
   ]
  },
  {
   "cell_type": "code",
   "execution_count": 39,
   "metadata": {},
   "outputs": [
    {
     "name": "stdout",
     "output_type": "stream",
     "text": [
      "i: 1 j: 1\n",
      "i: 1 j: 2\n",
      "i: 1 j: 3\n",
      "-----------\n",
      "i: 2 j: 1\n",
      "i: 2 j: 2\n",
      "i: 2 j: 3\n",
      "-----------\n",
      "i: 3 j: 1\n",
      "i: 3 j: 2\n",
      "i: 3 j: 3\n",
      "-----------\n"
     ]
    }
   ],
   "source": [
    "#4 ネスト\n",
    "\n",
    "for i in [1, 2, 3]:\n",
    "    for j in [1, 2, 3]:\n",
    "        print(\"i:\", i, \"j:\", j)\n",
    "    print(\"-----------\")"
   ]
  },
  {
   "cell_type": "markdown",
   "metadata": {},
   "source": [
    "## break文、continue文"
   ]
  },
  {
   "cell_type": "code",
   "execution_count": 41,
   "metadata": {},
   "outputs": [
    {
     "name": "stdout",
     "output_type": "stream",
     "text": [
      "0\n",
      "1\n",
      "2\n",
      "3\n",
      "4\n",
      "5\n"
     ]
    }
   ],
   "source": [
    "# break\n",
    "for i in range(10):\n",
    "    if i > 5:\n",
    "        break\n",
    "    print(i)\n"
   ]
  },
  {
   "cell_type": "code",
   "execution_count": 42,
   "metadata": {},
   "outputs": [
    {
     "name": "stdout",
     "output_type": "stream",
     "text": [
      "1\n",
      "3\n",
      "5\n",
      "7\n",
      "9\n"
     ]
    }
   ],
   "source": [
    "# continue\n",
    "for i in range(10):\n",
    "    if i % 2 == 0:\n",
    "        continue\n",
    "    print(i)"
   ]
  },
  {
   "cell_type": "markdown",
   "metadata": {},
   "source": [
    "## for文でよく使われる関数"
   ]
  },
  {
   "cell_type": "code",
   "execution_count": 1,
   "metadata": {},
   "outputs": [
    {
     "name": "stdout",
     "output_type": "stream",
     "text": [
      "i: 0 j: 1\n",
      "i: 1 j: 2\n",
      "i: 2 j: 5\n",
      "i: 3 j: 6\n",
      "i: 4 j: 7\n"
     ]
    }
   ],
   "source": [
    "for i, j in enumerate([1, 2, 5, 6, 7]):\n",
    "    print(\"i:\", i, \"j:\", j)"
   ]
  },
  {
   "cell_type": "code",
   "execution_count": 4,
   "metadata": {},
   "outputs": [
    {
     "name": "stdout",
     "output_type": "stream",
     "text": [
      "i: 0 j: 1\n",
      "i: 1 j: 10\n",
      "i: 2 j: 100\n"
     ]
    }
   ],
   "source": [
    "for i, j in zip([0, 1, 2], [1, 10, 100]):\n",
    "    print(\"i:\", i, \"j:\", j)"
   ]
  },
  {
   "cell_type": "markdown",
   "metadata": {},
   "source": [
    "## 内包表記"
   ]
  },
  {
   "cell_type": "code",
   "execution_count": 2,
   "metadata": {},
   "outputs": [
    {
     "name": "stdout",
     "output_type": "stream",
     "text": [
      "[10, 11, 12, 13, 14]\n",
      "[10, 11, 12, 13, 14]\n",
      "(10, 11, 12, 13, 14)\n",
      "(10, 11, 12, 13, 14)\n",
      "{'100': 10, '110': 11, '120': 12, '130': 13, '140': 14}\n"
     ]
    }
   ],
   "source": [
    "# リスト、タプル、辞書の内包表記\n",
    "print([i for i in range(10, 15)])\n",
    "print(tuple(i for i in range(10, 15)))\n",
    "print({str(i*10): i for i in range(10, 15)})"
   ]
  },
  {
   "cell_type": "code",
   "execution_count": 50,
   "metadata": {},
   "outputs": [
    {
     "name": "stdout",
     "output_type": "stream",
     "text": [
      "[0, 2, 4, 6, 8]\n"
     ]
    }
   ],
   "source": [
    "# if文を含む内包表記\n",
    "print([i for i in range(10) if i%2==0 ])"
   ]
  },
  {
   "cell_type": "code",
   "execution_count": 51,
   "metadata": {},
   "outputs": [
    {
     "name": "stdout",
     "output_type": "stream",
     "text": [
      "[0, 'abc', 2, 'abc', 4, 'abc', 6, 'abc', 8, 'abc']\n"
     ]
    }
   ],
   "source": [
    "# if ~ elseを含む内包表記\n",
    "print([i if i%2==0 else \"abc\" for i in range(10)])"
   ]
  },
  {
   "cell_type": "code",
   "execution_count": 48,
   "metadata": {},
   "outputs": [
    {
     "name": "stdout",
     "output_type": "stream",
     "text": [
      "[0, 1, 2, 0, 1, 2, 0, 1, 2]\n"
     ]
    }
   ],
   "source": [
    "# ネスト\n",
    "print([j for i in range(3) for j in range(3)])"
   ]
  },
  {
   "cell_type": "markdown",
   "metadata": {},
   "source": [
    "## 3項演算子"
   ]
  },
  {
   "cell_type": "code",
   "execution_count": 10,
   "metadata": {},
   "outputs": [
    {
     "name": "stdout",
     "output_type": "stream",
     "text": [
      "2\n"
     ]
    }
   ],
   "source": [
    "num = 10\n",
    "a = 1 if num < 5 else 2\n",
    "print(a)"
   ]
  },
  {
   "cell_type": "code",
   "execution_count": 12,
   "metadata": {},
   "outputs": [
    {
     "name": "stdout",
     "output_type": "stream",
     "text": [
      "c\n"
     ]
    }
   ],
   "source": [
    "# ネスト\n",
    "\n",
    "num = 20\n",
    "a = \"a\" if num < 10 else \"b\" if num < 20 else \"c\"\n",
    "print(a)"
   ]
  },
  {
   "cell_type": "code",
   "execution_count": null,
   "metadata": {},
   "outputs": [],
   "source": []
  }
 ],
 "metadata": {
  "kernelspec": {
   "display_name": "Python 3",
   "language": "python",
   "name": "python3"
  },
  "language_info": {
   "codemirror_mode": {
    "name": "ipython",
    "version": 3
   },
   "file_extension": ".py",
   "mimetype": "text/x-python",
   "name": "python",
   "nbconvert_exporter": "python",
   "pygments_lexer": "ipython3",
   "version": "3.6.4"
  }
 },
 "nbformat": 4,
 "nbformat_minor": 2
}
