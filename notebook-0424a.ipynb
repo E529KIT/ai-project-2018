{
 "cells": [
  {
   "cell_type": "markdown",
   "metadata": {},
   "source": [
    "## print関数"
   ]
  },
  {
   "cell_type": "code",
   "execution_count": 2,
   "metadata": {},
   "outputs": [
    {
     "name": "stdout",
     "output_type": "stream",
     "text": [
      "123\n",
      "1 2\n",
      "hello こんにちは\n",
      "hello 123\n",
      " '   \" \n"
     ]
    }
   ],
   "source": [
    "print(123)\n",
    "print(1, 2)\n",
    "print(\"hello\", 'こんにちは')\n",
    "print(\"hello\", 123)\n",
    "print(\" ' \", ' \" ')"
   ]
  },
  {
   "cell_type": "markdown",
   "metadata": {},
   "source": [
    "## コメント"
   ]
  },
  {
   "cell_type": "code",
   "execution_count": 1,
   "metadata": {},
   "outputs": [
    {
     "name": "stdout",
     "output_type": "stream",
     "text": [
      "hello\n"
     ]
    }
   ],
   "source": [
    "# 1行のコメント\n",
    "# print(111)\n",
    "\n",
    "# 複数行のコメント\n",
    "# 複数行のコメント機能はないが、docstringの機能を使うことで同じようなことができる\n",
    "# ただし、インデントには要注意\n",
    "# docstringはhelp関数を使うことで表示できる\n",
    "\n",
    "\"\"\"\n",
    "print(222)\n",
    "print(333)\n",
    "\"\"\"\n",
    "\n",
    "print(\"hello\")\n"
   ]
  },
  {
   "cell_type": "markdown",
   "metadata": {},
   "source": [
    "## import文"
   ]
  },
  {
   "cell_type": "code",
   "execution_count": 22,
   "metadata": {},
   "outputs": [],
   "source": [
    "import math\n",
    "import numpy as np"
   ]
  },
  {
   "cell_type": "markdown",
   "metadata": {},
   "source": [
    "## 関数"
   ]
  },
  {
   "cell_type": "code",
   "execution_count": 7,
   "metadata": {},
   "outputs": [
    {
     "name": "stdout",
     "output_type": "stream",
     "text": [
      "hello\n"
     ]
    }
   ],
   "source": [
    "def myfunc_1():\n",
    "    print(\"hello\")\n",
    "\n",
    "myfunc_1()"
   ]
  },
  {
   "cell_type": "code",
   "execution_count": 34,
   "metadata": {},
   "outputs": [
    {
     "name": "stdout",
     "output_type": "stream",
     "text": [
      "2821\n"
     ]
    }
   ],
   "source": [
    "# 返り値\n",
    "\n",
    "def myfunc_2():\n",
    "    num = 31 * 91\n",
    "    return num\n",
    "\n",
    "a = myfunc_2()\n",
    "print(a)"
   ]
  },
  {
   "cell_type": "code",
   "execution_count": 35,
   "metadata": {},
   "outputs": [
    {
     "name": "stdout",
     "output_type": "stream",
     "text": [
      "210\n"
     ]
    }
   ],
   "source": [
    "# 引数\n",
    "\n",
    "def myfunc_3(x, y):\n",
    "    return x * y\n",
    "\n",
    "a = myfunc_3(10, 21)\n",
    "print(a)"
   ]
  },
  {
   "cell_type": "code",
   "execution_count": 38,
   "metadata": {},
   "outputs": [
    {
     "name": "stdout",
     "output_type": "stream",
     "text": [
      "2400\n",
      "66\n"
     ]
    }
   ],
   "source": [
    "# デフォルト引数\n",
    "\n",
    "def myfunc_4(x=100, y=24):\n",
    "    return x * y\n",
    "\n",
    "a = myfunc_4()\n",
    "print(a)\n",
    "\n",
    "a = myfunc_4(2, 33)\n",
    "print(a)"
   ]
  },
  {
   "cell_type": "code",
   "execution_count": 42,
   "metadata": {},
   "outputs": [
    {
     "name": "stdout",
     "output_type": "stream",
     "text": [
      "(1, 2, '1', '2')\n",
      "1\n",
      "{'arg1': 11, 'arg2': 22, 'arg3': 33}\n"
     ]
    }
   ],
   "source": [
    "# 可変長引数\n",
    "\n",
    "def myfunc_5(*args):\n",
    "    print(args)\n",
    "    print(args[0])\n",
    "\n",
    "myfunc_5(1, 2, \"1\", \"2\")\n",
    "\n",
    "def myfunc_6(**kargs):\n",
    "    print(kargs)\n",
    "    \n",
    "myfunc_6(arg1=11, arg2=22, arg3=33)"
   ]
  },
  {
   "cell_type": "markdown",
   "metadata": {},
   "source": [
    "## lambda"
   ]
  },
  {
   "cell_type": "code",
   "execution_count": 45,
   "metadata": {},
   "outputs": [
    {
     "name": "stdout",
     "output_type": "stream",
     "text": [
      "59049\n"
     ]
    }
   ],
   "source": [
    "a = lambda x: x**5\n",
    "print(a(9))"
   ]
  },
  {
   "cell_type": "markdown",
   "metadata": {},
   "source": [
    "## lambda式がよく使われる関数"
   ]
  },
  {
   "cell_type": "code",
   "execution_count": 3,
   "metadata": {},
   "outputs": [
    {
     "name": "stdout",
     "output_type": "stream",
     "text": [
      "[0, 1, 2, 3, 4, 5, 6, 7, 8, 9]\n",
      "[0, 1, 4, 9, 16, 25, 36, 49, 64, 81]\n"
     ]
    }
   ],
   "source": [
    "int_list = list(range(10))\n",
    "print(int_list)\n",
    "\n",
    "double_list = list(map(lambda x: x**2, int_list))\n",
    "print(double_list)"
   ]
  },
  {
   "cell_type": "code",
   "execution_count": 1,
   "metadata": {},
   "outputs": [
    {
     "name": "stdout",
     "output_type": "stream",
     "text": [
      "[0, 1, 2, 3, 4, 5, 6, 7, 8, 9]\n",
      "[0, 2, 4, 6, 8]\n"
     ]
    }
   ],
   "source": [
    "int_list = list(range(10))\n",
    "print(int_list)\n",
    "\n",
    "even_list = list(filter(lambda x: x%2==0, int_list))\n",
    "print(even_list)"
   ]
  },
  {
   "cell_type": "code",
   "execution_count": null,
   "metadata": {},
   "outputs": [],
   "source": []
  }
 ],
 "metadata": {
  "kernelspec": {
   "display_name": "Python 3",
   "language": "python",
   "name": "python3"
  },
  "language_info": {
   "codemirror_mode": {
    "name": "ipython",
    "version": 3
   },
   "file_extension": ".py",
   "mimetype": "text/x-python",
   "name": "python",
   "nbconvert_exporter": "python",
   "pygments_lexer": "ipython3",
   "version": "3.6.4"
  }
 },
 "nbformat": 4,
 "nbformat_minor": 2
}
