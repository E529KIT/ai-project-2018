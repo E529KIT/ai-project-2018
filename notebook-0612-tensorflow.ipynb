{
 "cells": [
  {
   "cell_type": "markdown",
   "metadata": {},
   "source": [
    "## tensorflow"
   ]
  },
  {
   "cell_type": "code",
   "execution_count": 2,
   "metadata": {},
   "outputs": [
    {
     "name": "stderr",
     "output_type": "stream",
     "text": [
      "C:\\Users\\tanaka\\Anaconda3\\lib\\site-packages\\h5py\\__init__.py:36: FutureWarning: Conversion of the second argument of issubdtype from `float` to `np.floating` is deprecated. In future, it will be treated as `np.float64 == np.dtype(float).type`.\n",
      "  from ._conv import register_converters as _register_converters\n"
     ]
    }
   ],
   "source": [
    "import tensorflow as tf\n",
    "from tensorflow.examples.tutorials.mnist import input_data\n",
    "import numpy as np"
   ]
  },
  {
   "cell_type": "code",
   "execution_count": 8,
   "metadata": {},
   "outputs": [],
   "source": [
    "x = tf.placeholder(tf.float32, shape=[None, 784])\n",
    "y_ = tf.placeholder(tf.float32, shape=[None, 10])\n",
    "\n",
    "# 入力層\n",
    "x_image = tf.reshape(x, shape=[-1, 28, 28, 1])\n",
    "    \n",
    "# 畳み込み層\n",
    "conv1 = tf.layers.conv2d(\n",
    "    inputs=x_image,\n",
    "    filters=32,\n",
    "    kernel_size=[5, 5],\n",
    "    padding=\"same\",\n",
    "    activation=tf.nn.relu)\n",
    "    \n",
    "# プーリング層\n",
    "pool1 = tf.layers.max_pooling2d(inputs=conv1, pool_size=[2, 2], strides=2)\n",
    "    \n",
    "# 畳み込み層\n",
    "conv2 = tf.layers.conv2d(\n",
    "    inputs=pool1,\n",
    "    filters=64,\n",
    "    kernel_size=[5, 5],\n",
    "    padding=\"same\",\n",
    "    activation=tf.nn.relu)\n",
    "    \n",
    "# プーリング層\n",
    "pool2 = tf.layers.max_pooling2d(inputs=conv2, pool_size=[2, 2], strides=2)\n",
    "    \n",
    "# 全結合層\n",
    "pool2_flat = tf.reshape(pool2, [-1, 7 * 7 * 64])\n",
    "dense = tf.layers.dense(inputs=pool2_flat, units=1024, activation=tf.nn.relu)\n",
    "    \n",
    "# 計算結果\n",
    "y = tf.layers.dense(inputs=dense, units=10)\n",
    "    \n",
    "# 損失関数\n",
    "loss = tf.losses.softmax_cross_entropy(onehot_labels=y_, logits=y)\n",
    "    \n",
    "# 最適化関数\n",
    "train_step = tf.train.AdamOptimizer(learning_rate=0.001).minimize(loss)\n",
    "    \n",
    "# 評価関数\n",
    "correct_prediction = tf.equal(tf.argmax(y,1), tf.argmax(y_,1))\n",
    "accuracy = tf.reduce_mean(tf.cast(correct_prediction, tf.float32))\n",
    "    "
   ]
  },
  {
   "cell_type": "code",
   "execution_count": 12,
   "metadata": {},
   "outputs": [
    {
     "name": "stdout",
     "output_type": "stream",
     "text": [
      "Extracting MNIST_data\\train-images-idx3-ubyte.gz\n",
      "Extracting MNIST_data\\train-labels-idx1-ubyte.gz\n",
      "Extracting MNIST_data\\t10k-images-idx3-ubyte.gz\n",
      "Extracting MNIST_data\\t10k-labels-idx1-ubyte.gz\n",
      "train loss: 2.3, train acc: 0.16, test loss: 2.28, test acc: 0.189\n",
      "train loss: 0.114, train acc: 0.96, test loss: 0.138, test acc: 0.96\n",
      "train loss: 0.161, train acc: 0.96, test loss: 0.0926, test acc: 0.97\n",
      "train loss: 0.159, train acc: 0.98, test loss: 0.074, test acc: 0.977\n",
      "train loss: 0.0721, train acc: 0.98, test loss: 0.0516, test acc: 0.983\n",
      "train loss: 0.215, train acc: 0.92, test loss: 0.0512, test acc: 0.983\n",
      "train loss: 0.0598, train acc: 0.98, test loss: 0.0616, test acc: 0.981\n",
      "train loss: 0.00654, train acc: 1.0, test loss: 0.0568, test acc: 0.981\n",
      "train loss: 0.0564, train acc: 0.98, test loss: 0.0568, test acc: 0.983\n",
      "train loss: 0.0924, train acc: 0.98, test loss: 0.0411, test acc: 0.985\n"
     ]
    }
   ],
   "source": [
    "mnist = input_data.read_data_sets(\"MNIST_data\", one_hot=True)\n",
    "\n",
    "with tf.Session() as sess:\n",
    "    sess.run(tf.global_variables_initializer())\n",
    "    \n",
    "    for i in range(1000):\n",
    "        batch = mnist.train.next_batch(50)\n",
    "        \n",
    "        train_loss, _, train_acc = sess.run([loss, train_step, accuracy], feed_dict={x: batch[0], y_: batch[1]})\n",
    "        \n",
    "        if i % 100 == 0:\n",
    "            test_loss, test_acc = sess.run([loss, accuracy],\n",
    "                                           feed_dict={x: mnist.test.images, y_: mnist.test.labels})\n",
    "            print(\"train loss: {0:.3}, train acc: {1:.3}, test loss: {2:.3}, test acc: {3:.3}\"\n",
    "                  .format(train_loss, train_acc, test_loss, test_acc))\n"
   ]
  },
  {
   "cell_type": "code",
   "execution_count": null,
   "metadata": {},
   "outputs": [],
   "source": []
  }
 ],
 "metadata": {
  "kernelspec": {
   "display_name": "Python 3",
   "language": "python",
   "name": "python3"
  },
  "language_info": {
   "codemirror_mode": {
    "name": "ipython",
    "version": 3
   },
   "file_extension": ".py",
   "mimetype": "text/x-python",
   "name": "python",
   "nbconvert_exporter": "python",
   "pygments_lexer": "ipython3",
   "version": "3.6.4"
  }
 },
 "nbformat": 4,
 "nbformat_minor": 2
}
