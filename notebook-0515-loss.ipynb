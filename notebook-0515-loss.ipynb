{
 "cells": [
  {
   "cell_type": "code",
   "execution_count": 1,
   "metadata": {},
   "outputs": [],
   "source": [
    "import numpy as np"
   ]
  },
  {
   "cell_type": "code",
   "execution_count": 2,
   "metadata": {},
   "outputs": [],
   "source": [
    "t = np.array([0, 1, 0, 0, 0])\n",
    "y = np.array([0.1, 0.7, 0.1, 0.0, 0.1])"
   ]
  },
  {
   "cell_type": "markdown",
   "metadata": {},
   "source": [
    "## 損失関数"
   ]
  },
  {
   "cell_type": "markdown",
   "metadata": {},
   "source": [
    "## 平均二乗誤差\n",
    "\n",
    "$$ \\frac{1}{n} \\sum_{i=0}^{n-1} (y_i - t_i)^2 $$"
   ]
  },
  {
   "cell_type": "code",
   "execution_count": 3,
   "metadata": {},
   "outputs": [
    {
     "name": "stdout",
     "output_type": "stream",
     "text": [
      "0.02400000000000001\n"
     ]
    }
   ],
   "source": [
    "def mean_squared_error(y, t):\n",
    "    return np.sum((y - t) ** 2) / len(y)\n",
    "\n",
    "print(mean_squared_error(y, t))"
   ]
  },
  {
   "cell_type": "markdown",
   "metadata": {},
   "source": [
    "## 平均絶対誤差\n",
    "\n",
    "$$ \\frac{1}{n} \\sum_{i=0}^{n-1} |y_i - t_i| $$"
   ]
  },
  {
   "cell_type": "code",
   "execution_count": 4,
   "metadata": {},
   "outputs": [
    {
     "name": "stdout",
     "output_type": "stream",
     "text": [
      "0.12\n"
     ]
    }
   ],
   "source": [
    "def mean_absolute_error(y, t):\n",
    "    return np.sum(abs(y - t)) / len(y)\n",
    "\n",
    "print(mean_absolute_error(y, t))"
   ]
  },
  {
   "cell_type": "markdown",
   "metadata": {},
   "source": [
    "## 交差エントロピー\n",
    "\n",
    "$$ - \\sum_{i=0}^{n-1} t_i \\log{y_i} $$"
   ]
  },
  {
   "cell_type": "code",
   "execution_count": 12,
   "metadata": {},
   "outputs": [
    {
     "name": "stdout",
     "output_type": "stream",
     "text": [
      "0.3566748010815999\n"
     ]
    }
   ],
   "source": [
    "def cross_entropy_error(y, t):\n",
    "    return -np.sum(t * np.log(y))\n",
    "\n",
    "print(cross_entropy_error(y, t))"
   ]
  },
  {
   "cell_type": "code",
   "execution_count": null,
   "metadata": {},
   "outputs": [],
   "source": []
  }
 ],
 "metadata": {
  "kernelspec": {
   "display_name": "Python 3",
   "language": "python",
   "name": "python3"
  },
  "language_info": {
   "codemirror_mode": {
    "name": "ipython",
    "version": 3
   },
   "file_extension": ".py",
   "mimetype": "text/x-python",
   "name": "python",
   "nbconvert_exporter": "python",
   "pygments_lexer": "ipython3",
   "version": "3.6.4"
  }
 },
 "nbformat": 4,
 "nbformat_minor": 2
}
