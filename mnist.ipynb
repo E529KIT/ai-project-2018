{
 "cells": [
  {
   "cell_type": "code",
   "execution_count": 22,
   "metadata": {},
   "outputs": [],
   "source": [
    "import os\n",
    "import glob\n",
    "import numpy as np\n",
    "import pandas as pd\n",
    "from PIL import Image\n",
    "from sklearn.model_selection import train_test_split\n",
    "from sklearn.neural_network import MLPClassifier"
   ]
  },
  {
   "cell_type": "code",
   "execution_count": 23,
   "metadata": {},
   "outputs": [],
   "source": [
    "key = lambda x: (len(os.path.basename(x)), os.path.basename(x))\n",
    "\n",
    "def read_image(file_path=\"test/*\"):\n",
    "    images = []\n",
    "    file_name = sorted(glob.glob(file_path), key=key)\n",
    "    for path in file_name:\n",
    "        img = Image.open(path)\n",
    "        img = np.array(img).flatten()\n",
    "        images.append(img)\n",
    "        \n",
    "    return np.array(images), [os.path.basename(f) for f in file_name]"
   ]
  },
  {
   "cell_type": "markdown",
   "metadata": {},
   "source": [
    "# Read data"
   ]
  },
  {
   "cell_type": "code",
   "execution_count": 24,
   "metadata": {},
   "outputs": [],
   "source": [
    "train_image, _ = read_image(\"train/*\")\n",
    "label = pd.read_csv(\"train_master.tsv\", delimiter=\"\\t\")\n",
    "label = np.array(label[\"category_id\"])\n",
    "\n",
    "x_train, x_val, y_train, y_val = train_test_split(train_image, label, test_size=0.2)"
   ]
  },
  {
   "cell_type": "markdown",
   "metadata": {},
   "source": [
    "# Train"
   ]
  },
  {
   "cell_type": "code",
   "execution_count": 25,
   "metadata": {},
   "outputs": [
    {
     "name": "stdout",
     "output_type": "stream",
     "text": [
      "train 0.9856875 test: 0.9519166666666666\n"
     ]
    }
   ],
   "source": [
    "model = MLPClassifier(random_state=1)\n",
    "model.fit(x_train, y_train)\n",
    "print(\"train\", model.score(x_train, y_train), \"test:\", model.score(x_val, y_val))"
   ]
  },
  {
   "cell_type": "markdown",
   "metadata": {},
   "source": [
    "# Predict"
   ]
  },
  {
   "cell_type": "code",
   "execution_count": 26,
   "metadata": {},
   "outputs": [
    {
     "name": "stdout",
     "output_type": "stream",
     "text": [
      "[7 2 1 ... 4 5 6]\n"
     ]
    }
   ],
   "source": [
    "test_image, names = read_image(\"test/*\")\n",
    "pred = model.predict(test_image)\n",
    "print(pred)\n",
    "pred_df = pd.DataFrame({\"file_name\": names, \"pred\": pred})\n",
    "pred_df.to_csv(\"submit.tsv\", header=False, index=False, sep='\\t')\n"
   ]
  },
  {
   "cell_type": "code",
   "execution_count": null,
   "metadata": {},
   "outputs": [],
   "source": []
  }
 ],
 "metadata": {
  "kernelspec": {
   "display_name": "Python 3",
   "language": "python",
   "name": "python3"
  },
  "language_info": {
   "codemirror_mode": {
    "name": "ipython",
    "version": 3
   },
   "file_extension": ".py",
   "mimetype": "text/x-python",
   "name": "python",
   "nbconvert_exporter": "python",
   "pygments_lexer": "ipython3",
   "version": "3.6.6"
  }
 },
 "nbformat": 4,
 "nbformat_minor": 2
}
