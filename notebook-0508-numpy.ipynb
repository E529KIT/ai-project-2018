{
 "cells": [
  {
   "cell_type": "code",
   "execution_count": 2,
   "metadata": {},
   "outputs": [],
   "source": [
    "import numpy as np"
   ]
  },
  {
   "cell_type": "markdown",
   "metadata": {},
   "source": [
    "## リスト生成、スライス"
   ]
  },
  {
   "cell_type": "code",
   "execution_count": 8,
   "metadata": {},
   "outputs": [
    {
     "name": "stdout",
     "output_type": "stream",
     "text": [
      "a     : [1 2 3 4 5 6]\n",
      "a[2]  : 3\n",
      "a[2:4]: [3 4]\n",
      "a[4:] : [5 6]\n",
      "b:\n",
      " [[1 2 3 4 5 6]\n",
      " [1 2 3 4 5 6]\n",
      " [1 2 3 4 5 6]]\n",
      "b[2]:\n",
      " [1 2 3 4 5 6]\n",
      "b[0, 1:4]:\n",
      " [2 3 4]\n",
      "b[1:, 3:]:\n",
      " [[4 5 6]\n",
      " [4 5 6]]\n"
     ]
    }
   ],
   "source": [
    "# 1次元\n",
    "a = np.array([1, 2, 3 ,4, 5, 6])\n",
    "print(\"a     :\", a)\n",
    "print(\"a[2]  :\", a[2])\n",
    "print(\"a[2:4]:\", a[2:4])\n",
    "print(\"a[4:] :\", a[4:])\n",
    "\n",
    "# 2次元\n",
    "b = np.array([[1, 2, 3 ,4, 5, 6],\n",
    "              [1, 2, 3 ,4, 5, 6],\n",
    "              [1, 2, 3 ,4, 5, 6]])\n",
    "print(\"b:\\n\", b)\n",
    "print(\"b[2]:\\n\", b[2])\n",
    "print(\"b[0, 1:4]:\\n\", b[0, 1:4])\n",
    "print(\"b[1:, 3:]:\\n\", b[1:, 3:])"
   ]
  },
  {
   "cell_type": "markdown",
   "metadata": {},
   "source": [
    "## ndarryaの属性"
   ]
  },
  {
   "cell_type": "code",
   "execution_count": 9,
   "metadata": {},
   "outputs": [
    {
     "name": "stdout",
     "output_type": "stream",
     "text": [
      "(2, 4)\n",
      "8\n",
      "2\n",
      "int32\n"
     ]
    }
   ],
   "source": [
    "a = np.array([[1, 2, 3, 4],\n",
    "              [5, 6, 7, 8]])\n",
    "print(a.shape)\n",
    "print(a.size)\n",
    "print(a.ndim)\n",
    "print(a.dtype)"
   ]
  },
  {
   "cell_type": "markdown",
   "metadata": {},
   "source": [
    "## 配列の四則演算"
   ]
  },
  {
   "cell_type": "code",
   "execution_count": 5,
   "metadata": {},
   "outputs": [
    {
     "name": "stdout",
     "output_type": "stream",
     "text": [
      "[ 5  9  9 18 32 30]\n",
      "[ -1  -1  -5  -2   8 -10]\n",
      "[  6  20  14  80 240 200]\n",
      "[1.5  1.25 3.5  1.25 0.6  2.  ]\n",
      "[ 1  1  1  2 12  0]\n"
     ]
    }
   ],
   "source": [
    "a = np.array([3, 5, 7, 10, 12, 20])\n",
    "b = np.array([2, 4, 2, 8, 20, 10])\n",
    "\n",
    "# 加算\n",
    "print(a + b)\n",
    "\n",
    "# 減算\n",
    "print(b - a)\n",
    "\n",
    "# 乗算\n",
    "print(a * b)\n",
    "\n",
    "# 除算\n",
    "print(a / b)\n",
    "\n",
    "# 剰余\n",
    "print(a % b)"
   ]
  },
  {
   "cell_type": "markdown",
   "metadata": {},
   "source": [
    "## 合計、平均、最小、最大、分散、標準偏差"
   ]
  },
  {
   "cell_type": "code",
   "execution_count": 3,
   "metadata": {},
   "outputs": [
    {
     "name": "stdout",
     "output_type": "stream",
     "text": [
      "合計: 55\n",
      "平均: 5.5\n",
      "最小: 1\n",
      "最大: 10\n",
      "分散: 8.25\n",
      "標準偏差: 2.8722813232690143\n"
     ]
    }
   ],
   "source": [
    "a = np.array([1, 2, 3, 4, 5, 6, 7, 8, 9, 10])\n",
    "print(\"合計:\", np.sum(a))\n",
    "print(\"平均:\", np.mean(a))\n",
    "print(\"最小:\", np.min(a))\n",
    "print(\"最大:\", np.max(a))\n",
    "print(\"分散:\", np.var(a))\n",
    "print(\"標準偏差:\", np.std(a))"
   ]
  },
  {
   "cell_type": "markdown",
   "metadata": {},
   "source": [
    "## 乱数"
   ]
  },
  {
   "cell_type": "code",
   "execution_count": 10,
   "metadata": {},
   "outputs": [
    {
     "name": "stdout",
     "output_type": "stream",
     "text": [
      "0.4130990673349382\n",
      "[0.96498919 0.31420507]\n",
      "[[0.77691798 0.02422593 0.40687279]\n",
      " [0.27664747 0.36771185 0.49616832]]\n",
      "6\n"
     ]
    }
   ],
   "source": [
    "# 一様分布\n",
    "print(np.random.rand())\n",
    "print(np.random.rand(2))\n",
    "print(np.random.rand(2, 3))\n",
    "print(np.random.randint(20))"
   ]
  },
  {
   "cell_type": "code",
   "execution_count": 11,
   "metadata": {},
   "outputs": [
    {
     "name": "stdout",
     "output_type": "stream",
     "text": [
      "-1.7016523903375513\n"
     ]
    }
   ],
   "source": [
    "# 正規分布\n",
    "# 平均-1、標準偏差0.5の正規分布\n",
    "print(np.random.normal(-1, 0.5))\n"
   ]
  },
  {
   "cell_type": "code",
   "execution_count": null,
   "metadata": {},
   "outputs": [],
   "source": []
  }
 ],
 "metadata": {
  "kernelspec": {
   "display_name": "Python 3",
   "language": "python",
   "name": "python3"
  },
  "language_info": {
   "codemirror_mode": {
    "name": "ipython",
    "version": 3
   },
   "file_extension": ".py",
   "mimetype": "text/x-python",
   "name": "python",
   "nbconvert_exporter": "python",
   "pygments_lexer": "ipython3",
   "version": "3.6.4"
  }
 },
 "nbformat": 4,
 "nbformat_minor": 2
}
